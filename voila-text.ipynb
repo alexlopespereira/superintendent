{
 "cells": [
  {
   "cell_type": "code",
   "execution_count": 8,
   "id": "1ef1a7cf",
   "metadata": {},
   "outputs": [],
   "source": [
    "import pandas as pd\n",
    "import ipywidgets as widgets"
   ]
  },
  {
   "cell_type": "code",
   "execution_count": 9,
   "id": "66c48009",
   "metadata": {},
   "outputs": [
    {
     "name": "stdout",
     "output_type": "stream",
     "text": [
      "./data/licitacoes_trilha18_chunks_elastic_rotulado_auditor.json\r\n"
     ]
    }
   ],
   "source": [
    "!ls ./data/licitacoes_trilha18_chunks_elastic_rotulado_auditor.json"
   ]
  },
  {
   "cell_type": "code",
   "execution_count": 10,
   "id": "0faf724e",
   "metadata": {},
   "outputs": [],
   "source": [
    "# df_arquivo = pd.read_csv(\"../../raw_data/trilha18_trecho.csv\", sep=\"|\")\n",
    "# df_proc = pd.read_csv(\"../../raw_data/trilha18.csv\", sep=\"|\")\n",
    "# dfm = df_arquivo.merge(df_proc, on=[\"numprp\", 'coduasg_id', 'modprp_id'])\n",
    "# dfm['id'] = dfm[[\"numprp\", 'coduasg_id', 'modprp_id']].apply(\n",
    "#     lambda doc: f\"{doc['numprp']}-{doc['coduasg_id']}-{doc['modprp_id']}\", axis=1)\n",
    "# dfm['rank'] = dfm.groupby('id')['id'].rank('first').astype(int)\n",
    "# dfm['id'] = dfm[['id', 'rank']].apply(lambda doc: f\"{doc['id']}-{doc['rank']}\", axis=1)"
   ]
  },
  {
   "cell_type": "code",
   "execution_count": 11,
   "id": "1ebf857d",
   "metadata": {
    "scrolled": true
   },
   "outputs": [
    {
     "data": {
      "application/vnd.jupyter.widget-view+json": {
       "model_id": "793825b40c50433b88077f476d2a1f91",
       "version_major": 2,
       "version_minor": 0
      },
      "text/plain": [
       "Dropdown(description='Rotolador:', options=('Alex', 'Bruno', 'Erick', 'Gustavo'), value=None)"
      ]
     },
     "execution_count": 11,
     "metadata": {},
     "output_type": "execute_result"
    }
   ],
   "source": [
    "worker_dropdown = widgets.Dropdown(\n",
    "    options=['Alex', 'Bruno', 'Erick', 'Gustavo'],\n",
    "    value=None,\n",
    "    description='Rotolador:',\n",
    "    disabled=False,\n",
    ")\n",
    "worker_dropdown"
   ]
  },
  {
   "cell_type": "code",
   "execution_count": 12,
   "id": "7442c73f",
   "metadata": {},
   "outputs": [],
   "source": [
    "dfm = pd.read_json(\"./data/licitacoes_trilha18_chunks_elastic_rotulado_auditor.json\")"
   ]
  },
  {
   "cell_type": "code",
   "execution_count": null,
   "id": "879f9ddf",
   "metadata": {},
   "outputs": [],
   "source": []
  },
  {
   "cell_type": "code",
   "execution_count": 14,
   "id": "b6284b72-1125-4ffd-b9d7-bfc577b69a8d",
   "metadata": {
    "scrolled": true
   },
   "outputs": [
    {
     "data": {
      "application/vnd.jupyter.widget-view+json": {
       "model_id": "b23cc9b5e0754330bba2f67f40c86e69",
       "version_major": 2,
       "version_minor": 0
      },
      "text/plain": [
       "Superintendent(children=(HBox(children=(HBox(children=(FloatProgress(value=0.0, description='Progress:', max=1…"
      ]
     },
     "execution_count": 14,
     "metadata": {},
     "output_type": "execute_result"
    }
   ],
   "source": [
    "from superintendent import Superintendent\n",
    "from ipyannotations.text import ClassLabeller\n",
    "import os\n",
    "# from IPython import display\n",
    "\n",
    "user = os.getenv('POSTGRES_USER', \"superintendent\")\n",
    "pw = os.getenv('POSTGRES_PASSWORD', \"superintendent2022lewagonAlice\")\n",
    "db_name = os.getenv('POSTGRES_DB', \"labelling\")\n",
    "db_host = os.getenv('POSTGRES_HOST', \"db\")\n",
    "\n",
    "db_string = f\"postgresql+psycopg2://{user}:{pw}@{db_host}:5432/{db_name}\"\n",
    "    \n",
    "\n",
    "input_widget = ClassLabeller(options=['alerta procedente', 'alerta inprocedente'])\n",
    "input_data = dfm['chunk']\n",
    "data_labeller = Superintendent(\n",
    "    features=input_data,\n",
    "    labelling_widget=input_widget,\n",
    "    database_url=db_string\n",
    ")\n",
    "\n",
    "data_labeller"
   ]
  },
  {
   "cell_type": "code",
   "execution_count": 7,
   "id": "314519d4",
   "metadata": {},
   "outputs": [
    {
     "name": "stdout",
     "output_type": "stream",
     "text": [
      ":/home/alex/PycharmProjects/superintendent/src\r\n"
     ]
    }
   ],
   "source": [
    "!echo $PYTHON_PATH"
   ]
  },
  {
   "cell_type": "code",
   "execution_count": null,
   "id": "bd59506e",
   "metadata": {},
   "outputs": [],
   "source": []
  }
 ],
 "metadata": {
  "kernelspec": {
   "display_name": "Python 3 (ipykernel)",
   "language": "python",
   "name": "python3"
  },
  "language_info": {
   "codemirror_mode": {
    "name": "ipython",
    "version": 3
   },
   "file_extension": ".py",
   "mimetype": "text/x-python",
   "name": "python",
   "nbconvert_exporter": "python",
   "pygments_lexer": "ipython3",
   "version": "3.10.6"
  },
  "toc": {
   "base_numbering": 1,
   "nav_menu": {},
   "number_sections": true,
   "sideBar": true,
   "skip_h1_title": false,
   "title_cell": "Table of Contents",
   "title_sidebar": "Contents",
   "toc_cell": false,
   "toc_position": {},
   "toc_section_display": true,
   "toc_window_display": false
  }
 },
 "nbformat": 4,
 "nbformat_minor": 5
}
